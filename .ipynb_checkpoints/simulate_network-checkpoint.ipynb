{
 "cells": [
  {
   "cell_type": "code",
   "execution_count": 1,
   "id": "cf68e868-378b-415b-9a20-2e5554944bb2",
   "metadata": {},
   "outputs": [],
   "source": [
    "import numpy as np\n",
    "import matplotlib.pyplot as plt\n",
    "from brian2 import *\n",
    "from my_code.aux_functions import *\n",
    "from my_code.myhu_parameters import *\n",
    "from my_code.myhu_network import *\n",
    "from my_code.myhu_tests import *"
   ]
  },
  {
   "cell_type": "code",
   "execution_count": 2,
   "id": "4913d9ce-08d0-4e46-af93-9a9aa4c2d427",
   "metadata": {},
   "outputs": [],
   "source": [
    "param_model = 0\n",
    "initial_condition = 'none'\n",
    "neuron_type = 'adex'\n",
    "plastic_pp = False\n",
    "stocazzo = True\n",
    "net_params = get_default_net_params(0)\n",
    "test_params = get_dft_test_params('0')\n",
    "plot_params = get_dft_plot_params('0')\n",
    "\n",
    "net_params['g_bq'].set_param(0.55)\n",
    "net_params['g_bp'].set_param(0.75)\n",
    "net_params['g_pb'].set_param(0.75)\n",
    "net_params['g_qb'].set_param(2.1)\n",
    "net_params['g_aa'].set_param(2)\n",
    "net_params['g_ab'].set_param(4.5)\n",
    "net_params['curr_bg_p'].set_param(295)\n",
    "net_params['random_seed'].set_param(123)\n",
    "\n",
    "test_params['n_stim'].set_param(300)\n",
    "test_params['stim_strength'].set_param(0)\n",
    "test_params['stim_time'].set_param(300)\n",
    "test_params['prep_time'].set_param(1)\n",
    "test_params['wait_time'].set_param(2)\n",
    "times = 2"
   ]
  },
  {
   "cell_type": "code",
   "execution_count": 3,
   "id": "1b007b42-f0a8-44f6-9dee-9b37f31c0845",
   "metadata": {},
   "outputs": [
    {
     "name": "stdout",
     "output_type": "stream",
     "text": [
      "My Model\n",
      "123\n",
      "150\n",
      "Total number of synapses\n",
      "P->P: 2,245,779\n",
      "P->Q: 1,573,092\n",
      "Q->P: 570,768\n",
      "Q->Q: 1,094,027\n",
      "B->P: 158,925\n",
      "B->Q: 80,698\n",
      "A->P: 106,260\n",
      "A->Q: 54,387\n",
      "P->B: 159,373\n",
      "Q->B: 80,913\n",
      "P->A: 105,970\n",
      "Q->A: 54,319\n",
      "B->B: 4,495\n",
      "A->A: 1,989\n",
      "A->B: 3,044\n",
      "B->A: 3,056\n"
     ]
    },
    {
     "ename": "BrianObjectException",
     "evalue": "Error encountered with object named 'syn_pp_pre'.\nObject was created here (most recent call only, full details in debug log):\n  File '/home/masserini/Documents/PhD Project/Code/my_code/myhu_network.py', line 395, in build_network\n    syn_pp = Synapses(pop_p, pop_p, on_pre='g_p += g_ip*rang', name='syn_pp')\n\nAn error occurred when preparing an object. (See above for original error message and traceback.)",
     "output_type": "error",
     "traceback": [
      "\u001b[0;31m---------------------------------------------------------------------------\u001b[0m",
      "\u001b[0;31mKeyError\u001b[0m                                  Traceback (most recent call last)",
      "File \u001b[0;32m~/anaconda3/lib/python3.11/site-packages/brian2/core/network.py:1002\u001b[0m, in \u001b[0;36mNetwork.before_run\u001b[0;34m(self, run_namespace)\u001b[0m\n\u001b[1;32m   1001\u001b[0m \u001b[38;5;28;01mtry\u001b[39;00m:\n\u001b[0;32m-> 1002\u001b[0m     obj\u001b[38;5;241m.\u001b[39mbefore_run(run_namespace)\n\u001b[1;32m   1003\u001b[0m \u001b[38;5;28;01mexcept\u001b[39;00m \u001b[38;5;167;01mException\u001b[39;00m \u001b[38;5;28;01mas\u001b[39;00m ex:\n",
      "File \u001b[0;32m~/anaconda3/lib/python3.11/site-packages/brian2/core/base.py:335\u001b[0m, in \u001b[0;36mdevice_override.<locals>.device_override_decorator.<locals>.device_override_decorated_function\u001b[0;34m(*args, **kwds)\u001b[0m\n\u001b[1;32m    334\u001b[0m \u001b[38;5;28;01melse\u001b[39;00m:\n\u001b[0;32m--> 335\u001b[0m     \u001b[38;5;28;01mreturn\u001b[39;00m func(\u001b[38;5;241m*\u001b[39margs, \u001b[38;5;241m*\u001b[39m\u001b[38;5;241m*\u001b[39mkwds)\n",
      "File \u001b[0;32m~/anaconda3/lib/python3.11/site-packages/brian2/synapses/synapses.py:366\u001b[0m, in \u001b[0;36mSynapticPathway.before_run\u001b[0;34m(self, run_namespace)\u001b[0m\n\u001b[1;32m    364\u001b[0m \u001b[38;5;129m@device_override\u001b[39m(\u001b[38;5;124m\"\u001b[39m\u001b[38;5;124msynaptic_pathway_before_run\u001b[39m\u001b[38;5;124m\"\u001b[39m)\n\u001b[1;32m    365\u001b[0m \u001b[38;5;28;01mdef\u001b[39;00m \u001b[38;5;21mbefore_run\u001b[39m(\u001b[38;5;28mself\u001b[39m, run_namespace):\n\u001b[0;32m--> 366\u001b[0m     \u001b[38;5;28msuper\u001b[39m()\u001b[38;5;241m.\u001b[39mbefore_run(run_namespace)\n",
      "File \u001b[0;32m~/anaconda3/lib/python3.11/site-packages/brian2/groups/group.py:1266\u001b[0m, in \u001b[0;36mCodeRunner.before_run\u001b[0;34m(self, run_namespace)\u001b[0m\n\u001b[1;32m   1265\u001b[0m \u001b[38;5;28;01mdef\u001b[39;00m \u001b[38;5;21mbefore_run\u001b[39m(\u001b[38;5;28mself\u001b[39m, run_namespace):\n\u001b[0;32m-> 1266\u001b[0m     \u001b[38;5;28mself\u001b[39m\u001b[38;5;241m.\u001b[39mcreate_code_objects(run_namespace)\n\u001b[1;32m   1267\u001b[0m     \u001b[38;5;28msuper\u001b[39m()\u001b[38;5;241m.\u001b[39mbefore_run(run_namespace)\n",
      "File \u001b[0;32m~/anaconda3/lib/python3.11/site-packages/brian2/synapses/synapses.py:394\u001b[0m, in \u001b[0;36mSynapticPathway.create_code_objects\u001b[0;34m(self, run_namespace)\u001b[0m\n\u001b[1;32m    381\u001b[0m     \u001b[38;5;28mself\u001b[39m\u001b[38;5;241m.\u001b[39m_pushspikes_codeobj \u001b[38;5;241m=\u001b[39m create_runner_codeobj(\n\u001b[1;32m    382\u001b[0m         \u001b[38;5;28mself\u001b[39m,\n\u001b[1;32m    383\u001b[0m         \u001b[38;5;124m\"\u001b[39m\u001b[38;5;124m\"\u001b[39m,  \u001b[38;5;66;03m# no code\u001b[39;00m\n\u001b[0;32m   (...)\u001b[0m\n\u001b[1;32m    390\u001b[0m         run_namespace\u001b[38;5;241m=\u001b[39mrun_namespace,\n\u001b[1;32m    391\u001b[0m     )\n\u001b[1;32m    392\u001b[0m \u001b[38;5;28mself\u001b[39m\u001b[38;5;241m.\u001b[39mcode_objects[:] \u001b[38;5;241m=\u001b[39m [\n\u001b[1;32m    393\u001b[0m     weakref\u001b[38;5;241m.\u001b[39mproxy(\u001b[38;5;28mself\u001b[39m\u001b[38;5;241m.\u001b[39m_pushspikes_codeobj),\n\u001b[0;32m--> 394\u001b[0m     weakref\u001b[38;5;241m.\u001b[39mproxy(\u001b[38;5;28mself\u001b[39m\u001b[38;5;241m.\u001b[39mcreate_default_code_object(run_namespace)),\n\u001b[1;32m    395\u001b[0m ]\n",
      "File \u001b[0;32m~/anaconda3/lib/python3.11/site-packages/brian2/groups/group.py:1240\u001b[0m, in \u001b[0;36mCodeRunner.create_default_code_object\u001b[0;34m(self, run_namespace)\u001b[0m\n\u001b[1;32m   1239\u001b[0m \u001b[38;5;28;01melse\u001b[39;00m:\n\u001b[0;32m-> 1240\u001b[0m     \u001b[38;5;28mself\u001b[39m\u001b[38;5;241m.\u001b[39mcodeobj \u001b[38;5;241m=\u001b[39m create_runner_codeobj(\n\u001b[1;32m   1241\u001b[0m         group\u001b[38;5;241m=\u001b[39m\u001b[38;5;28mself\u001b[39m\u001b[38;5;241m.\u001b[39mgroup,\n\u001b[1;32m   1242\u001b[0m         code\u001b[38;5;241m=\u001b[39m\u001b[38;5;28mself\u001b[39m\u001b[38;5;241m.\u001b[39mabstract_code,\n\u001b[1;32m   1243\u001b[0m         user_code\u001b[38;5;241m=\u001b[39m\u001b[38;5;28mself\u001b[39m\u001b[38;5;241m.\u001b[39muser_code,\n\u001b[1;32m   1244\u001b[0m         template_name\u001b[38;5;241m=\u001b[39m\u001b[38;5;28mself\u001b[39m\u001b[38;5;241m.\u001b[39mtemplate,\n\u001b[1;32m   1245\u001b[0m         name\u001b[38;5;241m=\u001b[39m\u001b[38;5;124mf\u001b[39m\u001b[38;5;124m\"\u001b[39m\u001b[38;5;132;01m{\u001b[39;00m\u001b[38;5;28mself\u001b[39m\u001b[38;5;241m.\u001b[39mname\u001b[38;5;132;01m}\u001b[39;00m\u001b[38;5;124m_codeobject*\u001b[39m\u001b[38;5;124m\"\u001b[39m,\n\u001b[1;32m   1246\u001b[0m         check_units\u001b[38;5;241m=\u001b[39m\u001b[38;5;28mself\u001b[39m\u001b[38;5;241m.\u001b[39mcheck_units,\n\u001b[1;32m   1247\u001b[0m         additional_variables\u001b[38;5;241m=\u001b[39madditional_variables,\n\u001b[1;32m   1248\u001b[0m         needed_variables\u001b[38;5;241m=\u001b[39m\u001b[38;5;28mself\u001b[39m\u001b[38;5;241m.\u001b[39mneeded_variables,\n\u001b[1;32m   1249\u001b[0m         run_namespace\u001b[38;5;241m=\u001b[39mrun_namespace,\n\u001b[1;32m   1250\u001b[0m         template_kwds\u001b[38;5;241m=\u001b[39m\u001b[38;5;28mself\u001b[39m\u001b[38;5;241m.\u001b[39mtemplate_kwds,\n\u001b[1;32m   1251\u001b[0m         override_conditional_write\u001b[38;5;241m=\u001b[39m\u001b[38;5;28mself\u001b[39m\u001b[38;5;241m.\u001b[39moverride_conditional_write,\n\u001b[1;32m   1252\u001b[0m         codeobj_class\u001b[38;5;241m=\u001b[39m\u001b[38;5;28mself\u001b[39m\u001b[38;5;241m.\u001b[39mcodeobj_class,\n\u001b[1;32m   1253\u001b[0m     )\n\u001b[1;32m   1254\u001b[0m \u001b[38;5;28;01mreturn\u001b[39;00m \u001b[38;5;28mself\u001b[39m\u001b[38;5;241m.\u001b[39mcodeobj\n",
      "File \u001b[0;32m~/anaconda3/lib/python3.11/site-packages/brian2/codegen/codeobject.py:389\u001b[0m, in \u001b[0;36mcreate_runner_codeobj\u001b[0;34m(group, code, template_name, run_namespace, user_code, variable_indices, name, check_units, needed_variables, additional_variables, template_kwds, override_conditional_write, codeobj_class)\u001b[0m\n\u001b[1;32m    387\u001b[0m \u001b[38;5;66;03m# Resolve all variables (variables used in the code and variables needed by\u001b[39;00m\n\u001b[1;32m    388\u001b[0m \u001b[38;5;66;03m# the template)\u001b[39;00m\n\u001b[0;32m--> 389\u001b[0m variables \u001b[38;5;241m=\u001b[39m group\u001b[38;5;241m.\u001b[39mresolve_all(\n\u001b[1;32m    390\u001b[0m     \u001b[38;5;28msorted\u001b[39m(identifiers \u001b[38;5;241m|\u001b[39m \u001b[38;5;28mset\u001b[39m(needed_variables) \u001b[38;5;241m|\u001b[39m \u001b[38;5;28mset\u001b[39m(template_variables)),\n\u001b[1;32m    391\u001b[0m     \u001b[38;5;66;03m# template variables are not known to the user:\u001b[39;00m\n\u001b[1;32m    392\u001b[0m     user_identifiers\u001b[38;5;241m=\u001b[39muser_identifiers,\n\u001b[1;32m    393\u001b[0m     additional_variables\u001b[38;5;241m=\u001b[39madditional_variables,\n\u001b[1;32m    394\u001b[0m     run_namespace\u001b[38;5;241m=\u001b[39mrun_namespace,\n\u001b[1;32m    395\u001b[0m )\n\u001b[1;32m    396\u001b[0m \u001b[38;5;66;03m# We raise this error only now, because there is some non-obvious code path\u001b[39;00m\n\u001b[1;32m    397\u001b[0m \u001b[38;5;66;03m# where Jinja tries to get a Synapse's \"name\" attribute via syn['name'],\u001b[39;00m\n\u001b[1;32m    398\u001b[0m \u001b[38;5;66;03m# which then triggers the use of the `group_get_indices` template which does\u001b[39;00m\n\u001b[1;32m    399\u001b[0m \u001b[38;5;66;03m# not exist for standalone. Putting the check for template == None here\u001b[39;00m\n\u001b[1;32m    400\u001b[0m \u001b[38;5;66;03m# means we will first raise an error about the unknown identifier which will\u001b[39;00m\n\u001b[1;32m    401\u001b[0m \u001b[38;5;66;03m# then make Jinja try syn.name\u001b[39;00m\n",
      "File \u001b[0;32m~/anaconda3/lib/python3.11/site-packages/brian2/groups/group.py:801\u001b[0m, in \u001b[0;36mGroup.resolve_all\u001b[0;34m(self, identifiers, run_namespace, user_identifiers, additional_variables)\u001b[0m\n\u001b[1;32m    800\u001b[0m \u001b[38;5;28;01mfor\u001b[39;00m identifier \u001b[38;5;129;01min\u001b[39;00m identifiers:\n\u001b[0;32m--> 801\u001b[0m     resolved[identifier] \u001b[38;5;241m=\u001b[39m \u001b[38;5;28mself\u001b[39m\u001b[38;5;241m.\u001b[39m_resolve(\n\u001b[1;32m    802\u001b[0m         identifier,\n\u001b[1;32m    803\u001b[0m         user_identifier\u001b[38;5;241m=\u001b[39midentifier \u001b[38;5;129;01min\u001b[39;00m user_identifiers,\n\u001b[1;32m    804\u001b[0m         additional_variables\u001b[38;5;241m=\u001b[39madditional_variables,\n\u001b[1;32m    805\u001b[0m         run_namespace\u001b[38;5;241m=\u001b[39mrun_namespace,\n\u001b[1;32m    806\u001b[0m     )\n\u001b[1;32m    807\u001b[0m \u001b[38;5;28;01mreturn\u001b[39;00m resolved\n",
      "File \u001b[0;32m~/anaconda3/lib/python3.11/site-packages/brian2/groups/group.py:756\u001b[0m, in \u001b[0;36mGroup._resolve\u001b[0;34m(self, identifier, run_namespace, user_identifier, additional_variables)\u001b[0m\n\u001b[1;32m    754\u001b[0m \u001b[38;5;66;03m# We did not find the name internally, try to resolve it in the external\u001b[39;00m\n\u001b[1;32m    755\u001b[0m \u001b[38;5;66;03m# namespace\u001b[39;00m\n\u001b[0;32m--> 756\u001b[0m \u001b[38;5;28;01mreturn\u001b[39;00m \u001b[38;5;28mself\u001b[39m\u001b[38;5;241m.\u001b[39m_resolve_external(identifier, run_namespace\u001b[38;5;241m=\u001b[39mrun_namespace)\n",
      "File \u001b[0;32m~/anaconda3/lib/python3.11/site-packages/brian2/groups/group.py:890\u001b[0m, in \u001b[0;36mGroup._resolve_external\u001b[0;34m(self, identifier, run_namespace, user_identifier, internal_variable)\u001b[0m\n\u001b[1;32m    889\u001b[0m             error_msg \u001b[38;5;241m=\u001b[39m \u001b[38;5;124mf\u001b[39m\u001b[38;5;124m'\u001b[39m\u001b[38;5;124mThe identifier \u001b[39m\u001b[38;5;124m\"\u001b[39m\u001b[38;5;132;01m{\u001b[39;00midentifier\u001b[38;5;132;01m}\u001b[39;00m\u001b[38;5;124m\"\u001b[39m\u001b[38;5;124m could not be resolved.\u001b[39m\u001b[38;5;124m'\u001b[39m\n\u001b[0;32m--> 890\u001b[0m         \u001b[38;5;28;01mraise\u001b[39;00m \u001b[38;5;167;01mKeyError\u001b[39;00m(error_msg)\n\u001b[1;32m    892\u001b[0m \u001b[38;5;28;01melif\u001b[39;00m \u001b[38;5;28mlen\u001b[39m(matches) \u001b[38;5;241m>\u001b[39m \u001b[38;5;241m1\u001b[39m:\n\u001b[1;32m    893\u001b[0m     \u001b[38;5;66;03m# Possibly, all matches refer to the same object\u001b[39;00m\n",
      "\u001b[0;31mKeyError\u001b[0m: 'The identifier \"rang\" could not be resolved.'",
      "\nThe above exception was the direct cause of the following exception:\n",
      "\u001b[0;31mBrianObjectException\u001b[0m                      Traceback (most recent call last)",
      "Cell \u001b[0;32mIn[3], line 6\u001b[0m\n\u001b[1;32m      4\u001b[0m sim_dt \u001b[38;5;241m=\u001b[39m test_params[\u001b[38;5;124m'\u001b[39m\u001b[38;5;124msim_dt\u001b[39m\u001b[38;5;124m'\u001b[39m]\u001b[38;5;241m.\u001b[39mget_param()\n\u001b[1;32m      5\u001b[0m defaultclock\u001b[38;5;241m.\u001b[39mdt \u001b[38;5;241m=\u001b[39m sim_dt\n\u001b[0;32m----> 6\u001b[0m tested_network, test_params_u3, stimulations \u001b[38;5;241m=\u001b[39m run_test(built_network, test_params, all_used_params,times)\n\u001b[1;32m      7\u001b[0m ready_monitors, test_data, test_params_u4 \u001b[38;5;241m=\u001b[39m prepare_test(tested_network, test_params_u3, plot_params)\n",
      "File \u001b[0;32m~/Documents/PhD Project/Code/my_code/myhu_tests.py:11\u001b[0m, in \u001b[0;36mrun_test\u001b[0;34m(network, test_params, used_net_params, times)\u001b[0m\n\u001b[1;32m      8\u001b[0m \u001b[38;5;28;01mdef\u001b[39;00m \u001b[38;5;21mrun_test\u001b[39m(network, test_params, used_net_params, times):\n\u001b[1;32m     10\u001b[0m     prep_time \u001b[38;5;241m=\u001b[39m test_params[\u001b[38;5;124m'\u001b[39m\u001b[38;5;124mprep_time\u001b[39m\u001b[38;5;124m'\u001b[39m]\u001b[38;5;241m.\u001b[39mget_param()\n\u001b[0;32m---> 11\u001b[0m     network\u001b[38;5;241m.\u001b[39mrun(prep_time)\n\u001b[1;32m     12\u001b[0m     sim_time \u001b[38;5;241m=\u001b[39m test_params[\u001b[38;5;124m'\u001b[39m\u001b[38;5;124msim_time\u001b[39m\u001b[38;5;124m'\u001b[39m]\u001b[38;5;241m.\u001b[39mget_param()\n\u001b[1;32m     13\u001b[0m     stim_time \u001b[38;5;241m=\u001b[39m test_params[\u001b[38;5;124m'\u001b[39m\u001b[38;5;124mstim_time\u001b[39m\u001b[38;5;124m'\u001b[39m]\u001b[38;5;241m.\u001b[39mget_param()\n",
      "File \u001b[0;32m~/anaconda3/lib/python3.11/site-packages/brian2/core/base.py:335\u001b[0m, in \u001b[0;36mdevice_override.<locals>.device_override_decorator.<locals>.device_override_decorated_function\u001b[0;34m(*args, **kwds)\u001b[0m\n\u001b[1;32m    333\u001b[0m     \u001b[38;5;28;01mreturn\u001b[39;00m \u001b[38;5;28mgetattr\u001b[39m(curdev, name)(\u001b[38;5;241m*\u001b[39margs, \u001b[38;5;241m*\u001b[39m\u001b[38;5;241m*\u001b[39mkwds)\n\u001b[1;32m    334\u001b[0m \u001b[38;5;28;01melse\u001b[39;00m:\n\u001b[0;32m--> 335\u001b[0m     \u001b[38;5;28;01mreturn\u001b[39;00m func(\u001b[38;5;241m*\u001b[39margs, \u001b[38;5;241m*\u001b[39m\u001b[38;5;241m*\u001b[39mkwds)\n",
      "File \u001b[0;32m~/anaconda3/lib/python3.11/site-packages/brian2/units/fundamentalunits.py:2652\u001b[0m, in \u001b[0;36mcheck_units.<locals>.do_check_units.<locals>.new_f\u001b[0;34m(*args, **kwds)\u001b[0m\n\u001b[1;32m   2642\u001b[0m             error_message \u001b[38;5;241m=\u001b[39m (\n\u001b[1;32m   2643\u001b[0m                 \u001b[38;5;124mf\u001b[39m\u001b[38;5;124m\"\u001b[39m\u001b[38;5;124mFunction \u001b[39m\u001b[38;5;124m'\u001b[39m\u001b[38;5;132;01m{\u001b[39;00mf\u001b[38;5;241m.\u001b[39m\u001b[38;5;18m__name__\u001b[39m\u001b[38;5;132;01m}\u001b[39;00m\u001b[38;5;124m'\u001b[39m\u001b[38;5;124m \u001b[39m\u001b[38;5;124m\"\u001b[39m\n\u001b[1;32m   2644\u001b[0m                 \u001b[38;5;124m\"\u001b[39m\u001b[38;5;124mexpected a quantity with unit \u001b[39m\u001b[38;5;124m\"\u001b[39m\n\u001b[1;32m   2645\u001b[0m                 \u001b[38;5;124mf\u001b[39m\u001b[38;5;124m\"\u001b[39m\u001b[38;5;132;01m{\u001b[39;00munit\u001b[38;5;132;01m}\u001b[39;00m\u001b[38;5;124m for argument \u001b[39m\u001b[38;5;124m'\u001b[39m\u001b[38;5;132;01m{\u001b[39;00mk\u001b[38;5;132;01m}\u001b[39;00m\u001b[38;5;124m'\u001b[39m\u001b[38;5;124m but got \u001b[39m\u001b[38;5;124m\"\u001b[39m\n\u001b[1;32m   2646\u001b[0m                 \u001b[38;5;124mf\u001b[39m\u001b[38;5;124m\"\u001b[39m\u001b[38;5;124m'\u001b[39m\u001b[38;5;132;01m{\u001b[39;00mvalue\u001b[38;5;132;01m}\u001b[39;00m\u001b[38;5;124m'\u001b[39m\u001b[38;5;124m\"\u001b[39m\n\u001b[1;32m   2647\u001b[0m             )\n\u001b[1;32m   2648\u001b[0m             \u001b[38;5;28;01mraise\u001b[39;00m DimensionMismatchError(\n\u001b[1;32m   2649\u001b[0m                 error_message, get_dimensions(newkeyset[k])\n\u001b[1;32m   2650\u001b[0m             )\n\u001b[0;32m-> 2652\u001b[0m result \u001b[38;5;241m=\u001b[39m f(\u001b[38;5;241m*\u001b[39margs, \u001b[38;5;241m*\u001b[39m\u001b[38;5;241m*\u001b[39mkwds)\n\u001b[1;32m   2653\u001b[0m \u001b[38;5;28;01mif\u001b[39;00m \u001b[38;5;124m\"\u001b[39m\u001b[38;5;124mresult\u001b[39m\u001b[38;5;124m\"\u001b[39m \u001b[38;5;129;01min\u001b[39;00m au:\n\u001b[1;32m   2654\u001b[0m     \u001b[38;5;28;01mif\u001b[39;00m \u001b[38;5;28misinstance\u001b[39m(au[\u001b[38;5;124m\"\u001b[39m\u001b[38;5;124mresult\u001b[39m\u001b[38;5;124m\"\u001b[39m], Callable) \u001b[38;5;129;01mand\u001b[39;00m au[\u001b[38;5;124m\"\u001b[39m\u001b[38;5;124mresult\u001b[39m\u001b[38;5;124m\"\u001b[39m] \u001b[38;5;129;01mnot\u001b[39;00m \u001b[38;5;129;01min\u001b[39;00m (\n\u001b[1;32m   2655\u001b[0m         \u001b[38;5;28mbool\u001b[39m,\n\u001b[1;32m   2656\u001b[0m         np\u001b[38;5;241m.\u001b[39mbool_,\n\u001b[1;32m   2657\u001b[0m     ):\n",
      "File \u001b[0;32m~/anaconda3/lib/python3.11/site-packages/brian2/core/network.py:1138\u001b[0m, in \u001b[0;36mNetwork.run\u001b[0;34m(self, duration, report, report_period, namespace, profile, level)\u001b[0m\n\u001b[1;32m   1135\u001b[0m \u001b[38;5;28;01mif\u001b[39;00m namespace \u001b[38;5;129;01mis\u001b[39;00m \u001b[38;5;28;01mNone\u001b[39;00m:\n\u001b[1;32m   1136\u001b[0m     namespace \u001b[38;5;241m=\u001b[39m get_local_namespace(level\u001b[38;5;241m=\u001b[39mlevel \u001b[38;5;241m+\u001b[39m \u001b[38;5;241m3\u001b[39m)\n\u001b[0;32m-> 1138\u001b[0m \u001b[38;5;28mself\u001b[39m\u001b[38;5;241m.\u001b[39mbefore_run(namespace)\n\u001b[1;32m   1140\u001b[0m \u001b[38;5;28;01mif\u001b[39;00m \u001b[38;5;28mlen\u001b[39m(all_objects) \u001b[38;5;241m==\u001b[39m \u001b[38;5;241m0\u001b[39m:\n\u001b[1;32m   1141\u001b[0m     \u001b[38;5;28;01mreturn\u001b[39;00m  \u001b[38;5;66;03m# TODO: raise an error? warning?\u001b[39;00m\n",
      "File \u001b[0;32m~/anaconda3/lib/python3.11/site-packages/brian2/core/base.py:335\u001b[0m, in \u001b[0;36mdevice_override.<locals>.device_override_decorator.<locals>.device_override_decorated_function\u001b[0;34m(*args, **kwds)\u001b[0m\n\u001b[1;32m    333\u001b[0m     \u001b[38;5;28;01mreturn\u001b[39;00m \u001b[38;5;28mgetattr\u001b[39m(curdev, name)(\u001b[38;5;241m*\u001b[39margs, \u001b[38;5;241m*\u001b[39m\u001b[38;5;241m*\u001b[39mkwds)\n\u001b[1;32m    334\u001b[0m \u001b[38;5;28;01melse\u001b[39;00m:\n\u001b[0;32m--> 335\u001b[0m     \u001b[38;5;28;01mreturn\u001b[39;00m func(\u001b[38;5;241m*\u001b[39margs, \u001b[38;5;241m*\u001b[39m\u001b[38;5;241m*\u001b[39mkwds)\n",
      "File \u001b[0;32m~/anaconda3/lib/python3.11/site-packages/brian2/core/network.py:1004\u001b[0m, in \u001b[0;36mNetwork.before_run\u001b[0;34m(self, run_namespace)\u001b[0m\n\u001b[1;32m   1002\u001b[0m             obj\u001b[38;5;241m.\u001b[39mbefore_run(run_namespace)\n\u001b[1;32m   1003\u001b[0m         \u001b[38;5;28;01mexcept\u001b[39;00m \u001b[38;5;167;01mException\u001b[39;00m \u001b[38;5;28;01mas\u001b[39;00m ex:\n\u001b[0;32m-> 1004\u001b[0m             \u001b[38;5;28;01mraise\u001b[39;00m BrianObjectException(\n\u001b[1;32m   1005\u001b[0m                 \u001b[38;5;124m\"\u001b[39m\u001b[38;5;124mAn error occurred when preparing an object.\u001b[39m\u001b[38;5;124m\"\u001b[39m, obj\n\u001b[1;32m   1006\u001b[0m             ) \u001b[38;5;28;01mfrom\u001b[39;00m \u001b[38;5;21;01mex\u001b[39;00m\n\u001b[1;32m   1008\u001b[0m \u001b[38;5;66;03m# Check that no object has been run as part of another network before\u001b[39;00m\n\u001b[1;32m   1009\u001b[0m \u001b[38;5;28;01mfor\u001b[39;00m obj \u001b[38;5;129;01min\u001b[39;00m all_objects:\n",
      "\u001b[0;31mBrianObjectException\u001b[0m: Error encountered with object named 'syn_pp_pre'.\nObject was created here (most recent call only, full details in debug log):\n  File '/home/masserini/Documents/PhD Project/Code/my_code/myhu_network.py', line 395, in build_network\n    syn_pp = Synapses(pop_p, pop_p, on_pre='g_p += g_ip*rang', name='syn_pp')\n\nAn error occurred when preparing an object. (See above for original error message and traceback.)"
     ]
    }
   ],
   "source": [
    "built_network, all_used_params = build_network(param_model,neuron_type,plastic_pp,stocazzo,initial_condition, net_params)\n",
    "built_network, test_params, = record_network(built_network, all_used_params, test_params)\n",
    "test_params['sim_time'].set_param(2)\n",
    "sim_dt = test_params['sim_dt'].get_param()\n",
    "defaultclock.dt = sim_dt\n",
    "tested_network, test_params_u3, stimulations = run_test(built_network, test_params, all_used_params,times)\n",
    "ready_monitors, test_data, test_params_u4 = prepare_test(tested_network, test_params_u3, plot_params)"
   ]
  },
  {
   "cell_type": "code",
   "execution_count": null,
   "id": "c1794fa6-7191-4d5c-9770-6b3116a71527",
   "metadata": {},
   "outputs": [],
   "source": [
    "start = 0\n",
    "end = 420000\n",
    "fig = figure(figsize=(13,9))\n",
    "plt.rcParams['font.size'] = '18'\n",
    "subplot(221)\n",
    "plt.plot(ready_monitors['rtm_a'][0][start:end],ready_monitors['rtm_a'][1][start:end],color='green')\n",
    "plt.xlabel('Time [s]')\n",
    "plt.ylabel('Firing Rate [spikes/s]')\n",
    "plt.title('Population A')\n",
    "subplot(222) \n",
    "plt.plot(ready_monitors['rtm_b'][0][start:end],ready_monitors['rtm_b'][1][start:end],color='blue')\n",
    "#plt.vlines(3.45,-1,30,linestyles='dashed',color='k')\n",
    "#plt.xlim([4.3,4.6])\n",
    "plt.xlabel('Time [s]')\n",
    "plt.ylabel('Firing Rate [spikes/s]')\n",
    "plt.title('Population B')\n",
    "subplot(223)\n",
    "plt.plot(ready_monitors['rtm_q'][0][start:end],ready_monitors['rtm_q'][1][start:end],color='gold')\n",
    "plt.plot(ready_monitors['rtm_p'][0][start:end],ready_monitors['rtm_p'][1][start:end],color='magenta')\n",
    "plt.xlabel('Time [s]')\n",
    "plt.ylabel('Firing Rate [spikes/s]')\n",
    "plt.title('Population P')\n",
    "#plt.xlim([8, 10])\n",
    "subplot(224)\n",
    "plt.plot(ready_monitors['rtm_q'][0][start:end],ready_monitors['rtm_q'][1][start:end],color='gold')\n",
    "#plt.vlines(ready_monitors['all_peaks_q']/10000,0,20,linestyles='--',color='k')\n",
    "plt.xlabel('Time [s]')\n",
    "plt.ylabel('Firing Rate [spikes/s]')\n",
    "plt.title('Population Q')\n",
    "#plt.savefig('noA')\n",
    "fig.tight_layout()\n",
    "plt.savefig('rev_10')\n",
    "plt.show()"
   ]
  },
  {
   "cell_type": "code",
   "execution_count": null,
   "id": "1e510773-e784-4bf2-bc41-69b907bb5103",
   "metadata": {},
   "outputs": [],
   "source": [
    "plt.plot(ready_monitors['lowpass_lfp'][1])"
   ]
  },
  {
   "cell_type": "code",
   "execution_count": null,
   "id": "4be9b166-1286-4554-b813-052a02195407",
   "metadata": {},
   "outputs": [],
   "source": [
    "ready_monitors['rtm_q_trace']"
   ]
  },
  {
   "cell_type": "code",
   "execution_count": null,
   "id": "d9c7ef49-a19a-48cc-aa1a-00830c0ccddc",
   "metadata": {
    "tags": []
   },
   "outputs": [],
   "source": [
    "plt.plot(ready_monitors['rtm_q_trace'],'goldenrod')\n",
    "plt.plot(ready_monitors['rtm_p_trace'],'red')\n",
    "plt.show()"
   ]
  },
  {
   "cell_type": "code",
   "execution_count": null,
   "id": "f3ba04ea-a861-4d8a-b98e-39544e9bab9a",
   "metadata": {},
   "outputs": [],
   "source": [
    "np.mean(ready_monitors['swr_amp'])"
   ]
  },
  {
   "cell_type": "code",
   "execution_count": null,
   "id": "b43e2bfc-04b3-425a-93e2-4de63c44a380",
   "metadata": {},
   "outputs": [],
   "source": []
  },
  {
   "cell_type": "code",
   "execution_count": null,
   "id": "c2fdfce2-98c4-433f-bb32-4fb57dcfec7f",
   "metadata": {},
   "outputs": [],
   "source": [
    "plt.plot(ready_monitors['rtm_q_trace'],'goldenrod')\n",
    "plt.plot(ready_monitors['rtm_p_trace'],'red')\n",
    "plt.show()"
   ]
  },
  {
   "cell_type": "code",
   "execution_count": null,
   "id": "3a99ff8b-67aa-4356-96fb-0555a98135b8",
   "metadata": {},
   "outputs": [],
   "source": [
    "np.mean(ready_monitors['rtm_q'][1][80000:82000])"
   ]
  },
  {
   "cell_type": "code",
   "execution_count": null,
   "id": "0c8ab335-8da5-4d70-baaa-a6b6aff82484",
   "metadata": {},
   "outputs": [],
   "source": [
    "idx=0\n",
    "moment = ready_monitors['event_peak_index'][idx]\n",
    "#moment = 5000\n",
    "start = moment-1500\n",
    "end = moment+1500\n",
    "fig = figure(figsize=(13,9))\n",
    "plt.rcParams['font.size'] = '18'\n",
    "subplot(221)\n",
    "plt.plot(ready_monitors['rtm_q'][0][start:end],ready_monitors['rtm_q'][1][start:end],color='gold')\n",
    "plt.plot(ready_monitors['rtm_p1'][0][start:end],ready_monitors['rtm_p1'][1][start:end],color='magenta')\n",
    "#plt.plot(ready_monitors['rtm_p2'][0][start:end],ready_monitors['rtm_p2'][1][start:end],color='darkmagenta')\n",
    "#plt.plot(ready_monitors['rtm_a'][0][start:end],ready_monitors['rtm_a'][1][start:end],color='green')\n",
    "#plt.plot(ready_monitors['rtm_b'][0][start:end],0.3*ready_monitors['rtm_b'][1][start:end],color='blue')\n",
    "plt.xlabel('Time [s]')\n",
    "plt.ylabel('Firing Rate [spikes/s]')\n",
    "plt.title('Pyramidal Cells')\n",
    "plt.legend(['pop Q','pop P'])\n",
    "subplot(222)\n",
    "plt.plot(ready_monitors['rtm_a'][0][start:end],ready_monitors['rtm_a'][1][start:end],color='green')\n",
    "plt.plot(ready_monitors['rtm_b'][0][start:end],ready_monitors['rtm_b'][1][start:end],color='blue')\n",
    "plt.xlabel('Time [s]')\n",
    "plt.ylabel('Firing Rate [spikes/s]')\n",
    "plt.title('Interneurons')\n",
    "plt.legend(['pop A','pop B'])\n",
    "subplot(223)\n",
    "plt.plot(ready_monitors['stm_q_mempo'][0][start:end],ready_monitors['stm_q_mempo'][1][start:end],color='gold')\n",
    "plt.plot(ready_monitors['stm_p_mempo'][0][start:end],ready_monitors['stm_p_mempo'][1][start:end],color='red')\n",
    "plt.plot(ready_monitors['stm_a_mempo'][0][start:end],ready_monitors['stm_a_mempo'][1][start:end],color='green')\n",
    "plt.plot(ready_monitors['stm_b_mempo'][0][start:end],ready_monitors['stm_b_mempo'][1][start:end],color='blue')\n",
    "plt.rcParams['font.size'] = '18'\n",
    "plt.xlabel('Time [s]')\n",
    "plt.ylabel('Membrane potential [mV]')\n",
    "plt.title('Membrane Potentials')\n",
    "#plt.legend(['pop Q','pop P','pop A','pop B'])\n",
    "subplot(224)\n",
    "plt.plot(ready_monitors['stm_q_adp'][0][start:end],ready_monitors['stm_q_adp'][1][start:end],color='gold')\n",
    "plt.plot(ready_monitors['stm_p_adp'][0][start:end],ready_monitors['stm_p_adp'][1][start:end],color='magenta')\n",
    "plt.plot(ready_monitors['stm_b_adp'][0][start:end],ready_monitors['stm_b_adp'][1][start:end],color='blue')\n",
    "plt.plot(ready_monitors['stm_a_adp'][0][start:end],ready_monitors['stm_a_adp'][1][start:end],color='green')\n",
    "for i in range(len(stimulations)):\n",
    "    plt.vlines(stimulations[i]/second,0,100,linestyles='-',color='k')\n",
    "    plt.vlines(stimulations[i]/second+1,0,100,linestyles='--',color='k')\n",
    "xlim([start/10000,end/10000])\n",
    "plt.rcParams['font.size'] = '18'\n",
    "plt.xlabel('Time [s]')\n",
    "plt.ylabel('Adaptation current [pA]')\n",
    "plt.title('Adaptation Currents')\n",
    "#plt.legend(['pop Q','pop P','pop A','pop B'])\n",
    "fig.tight_layout()\n",
    "plt.savefig('rev8')\n",
    "plt.show()"
   ]
  },
  {
   "cell_type": "code",
   "execution_count": null,
   "id": "fda3d7f2-7e0c-4bf3-abe9-fb9f5c153d12",
   "metadata": {},
   "outputs": [],
   "source": [
    "from scipy.ndimage import gaussian_filter1d\n",
    "\n",
    "fs=10000\n",
    "signal=ready_monitors['rtm_b'][1][start:end]\n",
    "fft_result = np.fft.fft(signal)\n",
    "power_spectrum = np.abs(fft_result)**2 / len(signal)\n",
    "freq_axis = np.fft.fftfreq(len(signal), 1/fs)\n",
    "positive_freq_mask = freq_axis > 0\n",
    "freq_axis_positive = freq_axis[positive_freq_mask]\n",
    "power_spectrum_positive = power_spectrum[positive_freq_mask]\n",
    "coherences=np.sqrt(power_spectrum_positive/power_spectrum[0])\n",
    "coherence2 = coherences[np.argmax(power_spectrum_positive)]\n",
    "power_spectrum_positive[0:10]=0\n",
    "maxpower2 = np.max(power_spectrum)\n",
    "smoothing = 10\n",
    "smoothed_powers = gaussian_filter1d(power_spectrum_positive, smoothing)\n",
    "maxfreq2 = freq_axis_positive[np.argmax(smoothed_powers)]\n",
    "print(maxfreq2)\n",
    "print(coherence2)"
   ]
  },
  {
   "cell_type": "code",
   "execution_count": null,
   "id": "8dce43ac-61d1-45bc-876e-722ed1e56d39",
   "metadata": {},
   "outputs": [],
   "source": [
    "fig=plt.figure(figsize=(7,5),constrained_layout=True)\n",
    "ax1=fig.add_subplot(1,1,1)\n",
    "ax1.plot(ready_monitors['rtm_p'][0][start:end],ready_monitors['rtm_p'][1][start:end],color='magenta',zorder =3)\n",
    "ax1.plot(ready_monitors['rtm_b'][0][start:end],ready_monitors['rtm_b'][1][start:end],color='blue',alpha=0.5)\n",
    "ax1.set_xlabel('Time [s]',fontsize=24)\n",
    "ax1.set_ylabel('Firing rate [spikes/s]',fontsize=24)\n",
    "ax1.set_title('Fast Oscillations in E-I Network (1)',fontsize=24)\n",
    "plt.legend(['E neurons', 'I neurons'],fontsize=20)\n",
    "plt.xlim([start/10000,end/10000])\n",
    "plt.savefig('ripples3.svg', format='svg')"
   ]
  },
  {
   "cell_type": "code",
   "execution_count": null,
   "id": "bf25a7c7-b946-4b7d-b694-89c5e30be93d",
   "metadata": {},
   "outputs": [],
   "source": [
    "fig=plt.figure(figsize=(7,5),constrained_layout=True)\n",
    "ax1=fig.add_subplot(1,1,1)\n",
    "ax1.plot(ready_monitors['rtm_q'][0][start:end],ready_monitors['rtm_q'][1][start:end],color='goldenrod',zorder =3)\n",
    "ax1.plot(ready_monitors['rtm_p'][0][start:end],ready_monitors['rtm_p'][1][start:end],color='magenta',zorder =3)\n",
    "ax1.plot(ready_monitors['rtm_b'][0][start:end],ready_monitors['rtm_b'][1][start:end],color='blue',alpha=1)\n",
    "ax1.plot(ready_monitors['rtm_a'][0][start:end],ready_monitors['rtm_a'][1][start:end],color='green')\n",
    "ax1.set_xlabel('Time [s]',fontsize=24)\n",
    "ax1.set_ylabel('Firing rate [spikes/s]',fontsize=24)\n",
    "ax1.set_title('Sharp-Wave Ripples',fontsize=24)\n",
    "plt.legend(['athorny','thorny','PV basket','anti-SWR'],fontsize=18)\n",
    "plt.xlim([start/10000,end/10000])\n",
    "plt.savefig('ripples1.svg', format='svg')"
   ]
  },
  {
   "cell_type": "code",
   "execution_count": null,
   "id": "4ba6c2a8-257f-49c0-965e-520e86dbe3b0",
   "metadata": {},
   "outputs": [],
   "source": [
    "fig=plt.figure(figsize=(7,3),constrained_layout=True)\n",
    "ax1=fig.add_subplot(1,1,1)\n",
    "plt.plot(freq_axis_positive,power_spectrum_positive,'r')\n",
    "plt.xlabel('Frequency [Hz]',fontsize=24)\n",
    "ax1.set_yticks([])\n",
    "plt.title('Power Spectrum',fontsize=24)\n",
    "plt.xlim([0,300])\n",
    "plt.savefig('ripples4.svg', format='svg')"
   ]
  },
  {
   "cell_type": "code",
   "execution_count": null,
   "id": "5c8fa2e6-4174-498c-849a-31a2d5b6462a",
   "metadata": {},
   "outputs": [],
   "source": [
    "fig=plt.figure(figsize=(7,3),constrained_layout=True)\n",
    "ax1=fig.add_subplot(1,1,1)\n",
    "plt.plot(freq_axis_positive,power_spectrum_positive,'r')\n",
    "plt.xlabel('Frequency [Hz]',fontsize=24)\n",
    "ax1.set_yticks([])\n",
    "plt.title('Power Spectrum',fontsize=24)\n",
    "plt.xlim([0,300])\n",
    "plt.savefig('ripples2.svg', format='svg')"
   ]
  },
  {
   "cell_type": "code",
   "execution_count": null,
   "id": "f5521d65-b8a6-44e2-b11c-0f09ca5ecaab",
   "metadata": {},
   "outputs": [],
   "source": [
    "plt.plot(ready_monitors['rtm_q'][0][start:end],ready_monitors['rtm_q'][1][start:end],color='gold')\n",
    "plt.plot(ready_monitors['rtm_p1'][0][start:end],ready_monitors['rtm_p1'][1][start:end],color='magenta')\n",
    "plt.plot(ready_monitors['rtm_p2'][0][start:end],ready_monitors['rtm_p2'][1][start:end],color='darkmagenta')\n",
    "#plt.plot(ready_monitors['rtm_a'][0][start:end],ready_monitors['rtm_a'][1][start:end],color='green')\n",
    "#plt.plot(ready_monitors['rtm_b'][0][start:end],0.3*ready_monitors['rtm_b'][1][start:end],color='blue')\n",
    "plt.xlabel('Time [s]')\n",
    "plt.ylabel('Firing Rate [spikes/s]')\n",
    "plt.title('Athorny Inhibits Thorny')\n",
    "plt.legend(['athorny','thorny 1','thorny 2'])\n",
    "#plt.savefig('indirect')\n",
    "plt.show()"
   ]
  },
  {
   "cell_type": "code",
   "execution_count": null,
   "id": "990f1500-7e66-4f88-a4a0-8bab7cf73d89",
   "metadata": {},
   "outputs": [],
   "source": [
    "plt.rc('font', size=24)"
   ]
  },
  {
   "cell_type": "code",
   "execution_count": null,
   "id": "51f39fc7-8a8b-4f41-b35f-4570f0fbc3bd",
   "metadata": {},
   "outputs": [],
   "source": [
    "fig = figure(figsize=(13,5))\n",
    "subplot(121)\n",
    "plt.plot(ready_monitors['stm_p_mempo'][0][start:end],ready_monitors['stm_p_mempo'][1][start:end],color='red')\n",
    "plt.plot(ready_monitors['stm_q_mempo'][0][start:end],ready_monitors['stm_q_mempo'][1][start:end],color='gold')\n",
    "plt.plot(ready_monitors['stm_b_mempo'][0][start:end],ready_monitors['stm_b_mempo'][1][start:end],color='blue')\n",
    "plt.plot(ready_monitors['stm_a_mempo'][0][start:end],ready_monitors['stm_a_mempo'][1][start:end],color='green')\n",
    "plt.rcParams['font.size'] = '18'\n",
    "plt.xlabel('Time [s]')\n",
    "plt.ylabel('Membrane potential [mV]')\n",
    "plt.title('Membrane potential')\n",
    "subplot(122)\n",
    "#plt.plot(ready_monitors['stm_p_adp'][0][start:end],ready_monitors['stm_p_adp'][1][start:end],color='red')\n",
    "plt.plot(ready_monitors['stm_q_adp'][0][start:end],ready_monitors['stm_q_adp'][1][start:end],color='gold')\n",
    "plt.plot(ready_monitors['stm_b_adp'][0][start:end],ready_monitors['stm_b_adp'][1][start:end],color='blue')\n",
    "#plt.plot(ready_monitors['stm_a_adp'][0][start:end],ready_monitors['stm_a_adp'][1][start:end],color='green')\n",
    "plt.rcParams['font.size'] = '18'\n",
    "plt.xlabel('Time [s]')\n",
    "plt.ylabel('Adaptation current')\n",
    "plt.title('Adaptation current')\n",
    "fig.tight_layout()\n",
    "plt.show()"
   ]
  },
  {
   "cell_type": "code",
   "execution_count": null,
   "id": "f42cae8d-44c5-4943-83cc-72c7a898c8b5",
   "metadata": {},
   "outputs": [],
   "source": [
    "print('Event duration:',\"%.1f\" % np.mean(ready_monitors['event_durations']),'ms')\n",
    "print('Event size:',\"%.1f\" % np.mean(ready_monitors['swr_amp']))\n",
    "print('Peak time Q:',\"%.1f\" % np.mean(0.1*ready_monitors['rtm_q_event_argmax']),'ms')\n",
    "print('Peak time B:',\"%.1f\" % np.mean(0.1*ready_monitors['rtm_b_event_argmax']),'ms')\n",
    "print('Peak time P:',\"%.1f\" % np.mean(0.1*ready_monitors['rtm_p_event_argmax']),'ms')\n",
    "print('Peak Q:',\"%.1f\" % np.mean(ready_monitors['rtm_q_event_max']),'spikes/s')\n",
    "print('Peak P:',\"%.1f\" % np.mean(ready_monitors['rtm_p_event_max']),'spikes/s')\n",
    "print('Peak B:',\"%.1f\" % np.mean(ready_monitors['rtm_b_event_max']),'spikes/s')\n",
    "print('Rate Q event:',\"%.1f\" % np.mean(ready_monitors['rtm_q_event']),'spikes/s')\n",
    "print('Rate P event:',\"%.1f\" % np.mean(ready_monitors['rtm_p_event']),'spikes/s')\n",
    "print('Rate B event:',\"%.1f\" % np.mean(ready_monitors['rtm_b_event']),'spikes/s')\n",
    "print('Rate A event:',\"%.1f\" % np.mean(ready_monitors['rtm_a_event']),'spikes/s')\n",
    "print('Rate Q non-event:',\"%.1f\" % np.mean(ready_monitors['rtm_q_nswr']),'spikes/s')\n",
    "print('Rate P non-event:',\"%.1f\" % np.mean(ready_monitors['rtm_p_nswr']),'spikes/s')\n",
    "print('Rate B non-event:',\"%.1f\" % np.mean(ready_monitors['rtm_b_nswr']),'spikes/s')\n",
    "print('Rate A non-event:',\"%.1f\" % np.mean(ready_monitors['rtm_a_nswr']),'spikes/s')"
   ]
  },
  {
   "cell_type": "code",
   "execution_count": null,
   "id": "38072faa-4e54-4da5-af30-af71168e6742",
   "metadata": {},
   "outputs": [],
   "source": []
  },
  {
   "cell_type": "code",
   "execution_count": null,
   "id": "1e0b8295-ee6d-4e86-a850-bb08cd3fb250",
   "metadata": {},
   "outputs": [],
   "source": [
    "ready_monitors['rtm_b_event_argmax']"
   ]
  },
  {
   "cell_type": "code",
   "execution_count": null,
   "id": "a4aaafcf-afc9-4bcc-8f90-9d89f2ac8d43",
   "metadata": {},
   "outputs": [],
   "source": [
    "ready_monitors['rtm_p_event_argmax']"
   ]
  },
  {
   "cell_type": "code",
   "execution_count": null,
   "id": "45083636-63d6-4b1c-bcd9-1b4557a527cd",
   "metadata": {},
   "outputs": [],
   "source": [
    "np.mean(ready_monitors['n_events'])"
   ]
  },
  {
   "cell_type": "code",
   "execution_count": null,
   "id": "fad2e774-f6d6-48ba-a4ad-a933b413cb15",
   "metadata": {},
   "outputs": [],
   "source": [
    "start"
   ]
  },
  {
   "cell_type": "code",
   "execution_count": null,
   "id": "b59bb8cd-3cf2-4b4d-8518-18c47582167c",
   "metadata": {},
   "outputs": [],
   "source": [
    "plt.plot(ready_monitors['rtm_q'][1][start:end])"
   ]
  },
  {
   "cell_type": "code",
   "execution_count": null,
   "id": "d52024e7-0856-4459-93cc-357cce011980",
   "metadata": {},
   "outputs": [],
   "source": [
    "fig = figure(figsize=(8,6))\n",
    "start = 0\n",
    "end = 4500000\n",
    "plt.rcParams['font.size'] = '18'\n",
    "plt.plot(ready_monitors['rtm_q'][0][start:end],ready_monitors['rtm_q'][1][start:end],color='gold')\n",
    "plt.plot(ready_monitors['rtm_p'][0][start:end],ready_monitors['rtm_p'][1][start:end],color='red')\n",
    "#plt.plot(ready_monitors['rtm_a'][0][start:end],ready_monitors['rtm_a'][1][start:end],color='green')\n",
    "#plt.plot(ready_monitors['rtm_b'][0][start:end],ready_monitors['rtm_b'][1][start:end],color='blue')\n",
    "for i in range(len(stimulations)):\n",
    "    plt.vlines(stimulations[i]/second,0,100,linestyles='-',color='k')\n",
    "    plt.vlines(stimulations[i]/second+0.5,0,100,linestyles='--',color='k')\n",
    "plt.xlabel('Time [s]')\n",
    "plt.ylabel('Firing Rate [spikes/s]')\n",
    "plt.title('The Ambiguos Effects of Q Inhibition (300 neurons)')\n",
    "plt.legend(['pop Q','start inhibition','end inhibition'])\n",
    "fig.tight_layout()\n",
    "#plt.savefig('single_inh')\n",
    "plt.show()"
   ]
  },
  {
   "cell_type": "code",
   "execution_count": null,
   "id": "a8ac521a-4d36-4329-8299-3fbd337ddf63",
   "metadata": {},
   "outputs": [],
   "source": [
    "fig=plt.figure(figsize=(9,18))\n",
    "ax4=fig.add_subplot(4,1,1)\n",
    "ax4.plot(ready_monitors['spm_q'][0],ready_monitors['spm_q'][1],'.',color='goldenrod')\n",
    "ax4.set_xlim((2,40))\n",
    "ax4.set_ylim((-1,51))\n",
    "for i in range(len(stimulations)):\n",
    "    plt.vlines(stimulations[i]/second,0,100,linestyles='-',color='k')\n",
    "    plt.vlines(stimulations[i]/second+2,0,100,linestyles='--',color='k')\n",
    "\n",
    "ax5=fig.add_subplot(4,1,2)\n",
    "ax5.plot(ready_monitors['spm_p'][0],ready_monitors['spm_p'][1],'.',color='magenta')\n",
    "ax5.set_xlim((2,40))\n",
    "ax5.set_ylim((49,101))\n",
    "for i in range(len(stimulations)):\n",
    "    plt.vlines(stimulations[i]/second,0,100,linestyles='-',color='k')\n",
    "    plt.vlines(stimulations[i]/second+2,0,100,linestyles='--',color='k')\n",
    "\n",
    "ax6=fig.add_subplot(4,1,3)\n",
    "ax6.plot(ready_monitors['spm_b'][0],ready_monitors['spm_b'][1],'.',color='blue')\n",
    "ax6.set_xlim((2,40))\n",
    "ax6.set_ylim((-1,26))\n",
    "for i in range(len(stimulations)):\n",
    "    plt.vlines(stimulations[i]/second,0,100,linestyles='-',color='k')\n",
    "    plt.vlines(stimulations[i]/second+2,0,100,linestyles='--',color='k')\n",
    "\n",
    "ax7=fig.add_subplot(4,1,4)\n",
    "ax7.plot(ready_monitors['spm_a'][0],ready_monitors['spm_a'][1],'.',color='green')\n",
    "ax7.set_xlim((2,2.5))\n",
    "ax7.set_ylim((-1,26))"
   ]
  },
  {
   "cell_type": "code",
   "execution_count": null,
   "id": "9daba135-0d03-494a-9b34-ac2f229558bf",
   "metadata": {},
   "outputs": [],
   "source": [
    "ready_monitors"
   ]
  },
  {
   "cell_type": "code",
   "execution_count": null,
   "id": "10f4a65b-57a3-4def-80f8-0480f4e84049",
   "metadata": {},
   "outputs": [],
   "source": [
    "from scipy.optimize import curve_fit\n",
    "\n",
    "def exponential_func(x, a, b):\n",
    "    return a * np.exp(b * x)\n",
    "\n",
    "def fit_exponential(x_data, y_data):\n",
    "    # Initial parameter guess\n",
    "    initial_guess = (0.001, 10)\n",
    "\n",
    "    # Perform the curve fit\n",
    "    popt, _ = curve_fit(exponential_func, x_data, y_data, p0=initial_guess,maxfev = 6000)\n",
    "\n",
    "    return popt\n",
    "\n",
    "def calculate_mse(y_true, y_pred):\n",
    "    return np.mean((y_true - y_pred) ** 2)"
   ]
  },
  {
   "cell_type": "code",
   "execution_count": null,
   "id": "d9c79f09-5b64-4338-b31b-1b2c69eaaf7a",
   "metadata": {},
   "outputs": [],
   "source": [
    "n_events = ready_monitors['n_events']\n",
    "track_q = ready_monitors['rtm_q'][1]\n",
    "peaks_q = ready_monitors['rtm_q_event_max']\n",
    "peaktime_q = (ready_monitors['event_ramp_index'] + ready_monitors['rtm_q_event_argmax']).astype(int)\n",
    "q_halfmax = peaks_q / 2.0\n",
    "q_halfway = np.zeros(n_events, dtype=int)\n",
    "window = int(300 * ms / sim_dt)\n",
    "#fit_time = np.arange(0,window/second*sim_dt,sim_dt/second)\n",
    "fit_time = np.arange(-window/second*sim_dt,0,sim_dt/second)\n",
    "#fit_time = np.arange(0.3-window/second*sim_dt,0.3,sim_dt/second)\n",
    "\n",
    "alfa = np.zeros(n_events)\n",
    "beta = np.zeros(n_events)\n",
    "mses = np.zeros(n_events)\n",
    "\n",
    "plt.figure(figsize=(15,15))\n",
    "for i in range(n_events):\n",
    "    aux_idx = (np.abs(track_q[peaktime_q[i] - window:peaktime_q[i]] - q_halfmax[i])).argmin()\n",
    "    q_halfway[i] = int(aux_idx + peaktime_q[i] - window)\n",
    "    these_data = track_q[q_halfway[i]-window:q_halfway[i]]\n",
    "    params = fit_exponential(fit_time, these_data)\n",
    "    a, b = params\n",
    "    y_pred = exponential_func(fit_time, a, b)\n",
    "    mse = calculate_mse(these_data, y_pred)\n",
    "    \n",
    "    alfa[i] = a\n",
    "    beta[i] = b\n",
    "    mses[i] = mse\n",
    "    \n",
    "    if i<25:\n",
    "        plt.subplot(5,5,i+1)\n",
    "        plt.plot(fit_time,these_data,'k')\n",
    "        plt.plot(fit_time,a*np.exp(b*fit_time),'r--')\n",
    "\n",
    "plt.show()\n",
    "print('Halfmaxvalues:',['%0.4f' % j for j in q_halfmax])\n",
    "print('Coefficients:',['%0.4f' % j for j in alfa])\n",
    "print('Exponents:',['%0.4f' % j for j in beta])\n",
    "print('Mean squared errors',['%0.4f' % j for j in mses])\n",
    "print('Average Halfmaxvalue %0.4f' % np.mean(q_halfmax))\n",
    "print('Average coefficient %0.4f' % np.mean(alfa))\n",
    "print('Average exponent %0.4f' % np.mean(beta))\n",
    "print('Average error %0.4f' % np.mean(mses))"
   ]
  },
  {
   "cell_type": "code",
   "execution_count": null,
   "id": "8db007b9-c1c8-434d-b5f8-b781d1e0885d",
   "metadata": {},
   "outputs": [],
   "source": [
    "plt.figure(figsize=(13,6))\n",
    "plt.rcParams['font.size'] = '18'\n",
    "plt.subplot(121)\n",
    "plt.plot(fit_time,track_q[q_halfway[0]-window:q_halfway[0]],'k')\n",
    "plt.plot(fit_time,alfa[0]*np.exp(beta[0]*fit_time),'r--')\n",
    "plt.legend(['simulation',r'$14 \\cdot e^{47 t}$'],fontsize=15)\n",
    "plt.xlabel('Time before half-peak [s]',)\n",
    "plt.ylabel('Q firing rate [spikes/s]')\n",
    "plt.title('Athorny growth fitting (one event)')\n",
    "\n",
    "plt.subplot(122)\n",
    "plt.rcParams['font.size'] = '18'\n",
    "plt.plot(fit_time,track_q[q_halfway[6]-window:q_halfway[6]],'k')\n",
    "plt.plot(fit_time,alfa[6]*np.exp(beta[6]*fit_time),'r--')\n",
    "plt.legend(['simulation',r'$31\\cdot e^{101 t}$'],fontsize=15)\n",
    "plt.xlabel('Time before half-peak [s]')\n",
    "plt.ylabel('Q firing rate [spikes/s]')\n",
    "plt.title('Athorny growth fitting (another event)')\n",
    "plt.tight_layout()\n",
    "#plt.savefig('figuresample')"
   ]
  },
  {
   "cell_type": "code",
   "execution_count": null,
   "id": "35c57d7d-af44-4262-92b6-b6aca05f6dfd",
   "metadata": {},
   "outputs": [],
   "source": [
    "np.mean(ready_monitors['swr_amp'])"
   ]
  },
  {
   "cell_type": "code",
   "execution_count": null,
   "id": "17c65e82-6660-4776-ac98-c99d82cef6d8",
   "metadata": {},
   "outputs": [],
   "source": [
    "np.std(ready_monitors['swr_amp'])"
   ]
  },
  {
   "cell_type": "code",
   "execution_count": null,
   "id": "f2308e42-5f01-4e41-83ba-7b5767a99b4e",
   "metadata": {},
   "outputs": [],
   "source": [
    "#start = 258000\n",
    "#end = 263000\n",
    "start = 18000\n",
    "end = 21000\n",
    "fig = figure(figsize=(13,9))\n",
    "plt.rcParams['font.size'] = '18'\n",
    "subplot(221)\n",
    "plt.plot(ready_monitors['rtm_q'][0][start:end],ready_monitors['rtm_q'][1][start:end],color='gold')\n",
    "plt.plot(ready_monitors['rtm_p'][0][start:end],ready_monitors['rtm_p'][1][start:end],color='red')\n",
    "plt.plot(ready_monitors['rtm_a'][0][start:end],ready_monitors['rtm_a'][1][start:end],color='green')\n",
    "plt.plot(ready_monitors['rtm_b'][0][start:end],0.2*ready_monitors['rtm_b'][1][start:end],color='blue')\n",
    "plt.xlabel('Time [s]')\n",
    "plt.ylabel('Firing Rate [spikes/s]')\n",
    "plt.title('Pyramidal Cells')\n",
    "plt.legend(['pop Q','pop P'])\n",
    "subplot(222)\n",
    "plt.plot(ready_monitors['rtm_a'][0][start:end],ready_monitors['rtm_a'][1][start:end],color='green')\n",
    "plt.plot(ready_monitors['rtm_b'][0][start:end],ready_monitors['rtm_b'][1][start:end],color='blue')\n",
    "plt.xlabel('Time [s]')\n",
    "plt.ylabel('Firing Rate [spikes/s]')\n",
    "plt.title('Interneurons')\n",
    "plt.legend(['pop A','pop B'])\n",
    "subplot(223)\n",
    "plt.plot(ready_monitors['stm_q_mempo'][0][start:end],ready_monitors['stm_q_mempo'][1][start:end],color='gold')\n",
    "plt.plot(ready_monitors['stm_p_mempo'][0][start:end],ready_monitors['stm_p_mempo'][1][start:end],color='red')\n",
    "plt.plot(ready_monitors['stm_a_mempo'][0][start:end],ready_monitors['stm_a_mempo'][1][start:end],color='green')\n",
    "plt.plot(ready_monitors['stm_b_mempo'][0][start:end],ready_monitors['stm_b_mempo'][1][start:end],color='blue')\n",
    "plt.rcParams['font.size'] = '18'\n",
    "plt.xlabel('Time [s]')\n",
    "plt.ylabel('Membrane potential [mV]')\n",
    "plt.title('Membrane Potentials')\n",
    "#plt.legend(['pop Q','pop P','pop A','pop B'])\n",
    "subplot(224)\n",
    "plt.plot(ready_monitors['stm_q_adp'][0][start:end],ready_monitors['stm_q_adp'][1][start:end],color='gold')\n",
    "plt.plot(ready_monitors['stm_p_adp'][0][start:end],ready_monitors['stm_p_adp'][1][start:end],color='red')\n",
    "plt.plot(ready_monitors['stm_a_adp'][0][start:end],ready_monitors['stm_a_adp'][1][start:end],color='green')\n",
    "plt.plot(ready_monitors['stm_b_adp'][0][start:end],ready_monitors['stm_b_adp'][1][start:end],color='blue')\n",
    "for i in range(len(stimulations)):\n",
    "    plt.vlines(stimulations[i]/second,0,100,linestyles='-',color='k')\n",
    "    plt.vlines(stimulations[i]/second+1,0,100,linestyles='--',color='k')\n",
    "xlim([start/10000,end/10000])\n",
    "plt.rcParams['font.size'] = '18'\n",
    "plt.xlabel('Time [s]')\n",
    "plt.ylabel('Adaptation current [pA]')\n",
    "plt.title('Adaptation Currents')\n",
    "#plt.legend(['pop Q','pop P','pop A','pop B'])\n",
    "fig.tight_layout()\n",
    "#plt.savefig('sample1')\n",
    "plt.show()"
   ]
  },
  {
   "cell_type": "code",
   "execution_count": null,
   "id": "25f31daf-d054-417d-a3a5-066101cdb9ab",
   "metadata": {},
   "outputs": [],
   "source": [
    "\n",
    "plt.rcParams['font.size'] = '18'\n",
    "plt.plot(ready_monitors['rtm_q'][0][start:end],ready_monitors['rtm_q'][1][start:end],color='gold')\n",
    "plt.plot(ready_monitors['rtm_p'][0][start:end],ready_monitors['rtm_p'][1][start:end],color='red')\n",
    "#plt.plot(ready_monitors['rtm_a'][0][start:end],ready_monitors['rtm_a'][1][start:end],color='green')\n",
    "#plt.plot(ready_monitors['rtm_b'][0][start:end],ready_monitors['rtm_b'][1][start:end],color='blue')\n",
    "plt.xlabel('Time [s]')\n",
    "plt.ylabel('Firing Rate [spikes/s]')\n",
    "plt.title('Very low Q-to-P (2%)')\n",
    "#plt.savefig('low_qp')"
   ]
  },
  {
   "cell_type": "code",
   "execution_count": null,
   "id": "d19e6294-a139-49f4-a49b-237421e62869",
   "metadata": {},
   "outputs": [],
   "source": [
    "plt.plot(ready_monitors['rtm_q'][0][start:end],ready_monitors['rtm_q'][1][start:end]/42,color='gold')\n",
    "plt.plot(ready_monitors['rtm_p'][0][start:end],ready_monitors['rtm_p'][1][start:end]/18,color='red')\n",
    "plt.plot(ready_monitors['rtm_b'][0][start:end],ready_monitors['rtm_b'][1][start:end]/100,color='blue')\n",
    "plt.xlim([5.2,6])\n",
    "plt.xlabel('Time [s]')\n",
    "plt.ylabel('Firing Rate [spikes/s]')\n",
    "#plt.savefig('alone')"
   ]
  },
  {
   "cell_type": "code",
   "execution_count": null,
   "id": "ef011e70-6173-408f-afad-4c2efc72d8a6",
   "metadata": {},
   "outputs": [],
   "source": [
    "np.savetxt('alone_p_stoca.csv', ready_monitors['rtm_p'][1][start:end], delimiter=',')\n",
    "np.savetxt('alone_q_stoca.csv', ready_monitors['rtm_q'][1][start:end], delimiter=',')\n",
    "np.savetxt('alone_time_stoca.csv', ready_monitors['rtm_q'][0][start:end], delimiter=',')"
   ]
  },
  {
   "cell_type": "code",
   "execution_count": null,
   "id": "b4df8794-5b37-4fd0-8c80-0849b1386ab0",
   "metadata": {},
   "outputs": [],
   "source": [
    "np.savetxt('rateq_stoca.csv', ready_monitors['rtm_q'][1][start:end], delimiter=',')\n",
    "np.savetxt('ratep_stoca.csv', ready_monitors['rtm_p'][1][start:end], delimiter=',')\n",
    "np.savetxt('rateb_stoca.csv', ready_monitors['rtm_b'][1][start:end], delimiter=',')\n",
    "np.savetxt('ratea_stoca.csv', ready_monitors['rtm_a'][1][start:end], delimiter=',')"
   ]
  },
  {
   "cell_type": "code",
   "execution_count": null,
   "id": "14a36065-e5a4-4821-9d46-e2b15b9aa0ca",
   "metadata": {},
   "outputs": [],
   "source": [
    "np.savetxt('mempoq_stoca.csv', ready_monitors['stm_q_mempo'][1][start:end], delimiter=',')\n",
    "np.savetxt('mempop_stoca.csv', ready_monitors['stm_p_mempo'][1][start:end], delimiter=',')\n",
    "np.savetxt('mempob_stoca.csv', ready_monitors['stm_b_mempo'][1][start:end], delimiter=',')\n",
    "np.savetxt('mempoa_stoca.csv', ready_monitors['stm_a_mempo'][1][start:end], delimiter=',')"
   ]
  },
  {
   "cell_type": "code",
   "execution_count": null,
   "id": "ae8a89a7-009d-4d50-8cbd-fefe2a967193",
   "metadata": {},
   "outputs": [],
   "source": [
    "np.savetxt('adaq_stoca.csv', ready_monitors['stm_q_adp'][1][start:end], delimiter=',')\n",
    "np.savetxt('adap_stoca.csv', ready_monitors['stm_p_adp'][1][start:end], delimiter=',')\n",
    "np.savetxt('adab_stoca.csv', ready_monitors['stm_b_adp'][1][start:end], delimiter=',')\n",
    "np.savetxt('adaa_stoca.csv', ready_monitors['stm_a_adp'][1][start:end], delimiter=',')"
   ]
  },
  {
   "cell_type": "code",
   "execution_count": null,
   "id": "fde071d7-d464-4b84-95b9-d8f1bef440de",
   "metadata": {},
   "outputs": [],
   "source": [
    "plt.plot(ready_monitors['lowpass_lfp'][0],ready_monitors['lowpass_lfp'][1])"
   ]
  },
  {
   "cell_type": "code",
   "execution_count": null,
   "id": "30086a1a-53c7-45a6-8a64-531f5a1ce228",
   "metadata": {},
   "outputs": [],
   "source": [
    "ready_monitors['event_peak_index']"
   ]
  },
  {
   "cell_type": "code",
   "execution_count": null,
   "id": "600542c9-a3ad-40ed-bf55-9b447875f38b",
   "metadata": {},
   "outputs": [],
   "source": [
    "ready_monitors['rtm_q_25pre_index']"
   ]
  },
  {
   "cell_type": "code",
   "execution_count": null,
   "id": "d7413d1c-53ce-497a-9d4f-09e80254b5d4",
   "metadata": {},
   "outputs": [],
   "source": [
    "ready_monitors['rtm_q_50pre_index']"
   ]
  },
  {
   "cell_type": "code",
   "execution_count": null,
   "id": "98542d13-582d-485d-a032-94053bfea358",
   "metadata": {},
   "outputs": [],
   "source": [
    "ready_monitors['rtm_q_75pre_index']"
   ]
  },
  {
   "cell_type": "code",
   "execution_count": null,
   "id": "c02746de-35bc-4e56-83c4-7a41ff4cdc63",
   "metadata": {},
   "outputs": [],
   "source": [
    "start"
   ]
  },
  {
   "cell_type": "code",
   "execution_count": null,
   "id": "b8e7c612-a921-403a-bc12-f0859da99a03",
   "metadata": {},
   "outputs": [],
   "source": []
  },
  {
   "cell_type": "code",
   "execution_count": null,
   "id": "cbea8721-8dea-4267-acba-471d3b4b2c23",
   "metadata": {},
   "outputs": [],
   "source": []
  },
  {
   "cell_type": "code",
   "execution_count": null,
   "id": "19a0cb55-4b6a-4b36-a4dc-8de6ffd36c3f",
   "metadata": {},
   "outputs": [],
   "source": [
    "figure(figsize=(13,8))\n",
    "plt.plot(ready_monitors['spm_a'][0],1200+ready_monitors['spm_a'][1],'.',color='green')\n",
    "plt.plot(ready_monitors['spm_b'][0],1300+ready_monitors['spm_b'][1],'.',color='blue')\n",
    "plt.plot(ready_monitors['spm_q'][0],ready_monitors['spm_q'][1],'.',color='gold')\n",
    "plt.plot(ready_monitors['spm_p'][0],1475+ready_monitors['spm_p'][1],'.',color='red')\n",
    "for i in range(len(stimulations)):\n",
    "    plt.vlines(stimulations[i]/second,0,4160,linestyles='-',color='k')\n",
    "    #plt.vlines(stimulations[i]/second+0.2,0,4160,linestyles='--',color='k')\n",
    "plt.xlabel('Time [s]',fontsize=20)\n",
    "plt.ylabel('Neuron index',fontsize=20)\n",
    "plt.title('Consequences of Instantaneous Stimulation',fontsize=20)\n",
    "plt.xlim((18,35))\n",
    "plt.ylim((0,4150))\n",
    "#plt.savefig('rasterini_p')"
   ]
  },
  {
   "cell_type": "code",
   "execution_count": null,
   "id": "bcf96c2c-c868-4b6b-a2b4-55802c472e53",
   "metadata": {},
   "outputs": [],
   "source": [
    "figure(figsize=(13,3))\n",
    "plt.plot(ready_monitors['stm_q_mempo'][0],ready_monitors['stm_q_mempo'][1],color='gold')\n",
    "for i in range(len(stimulations)):\n",
    "    plt.vlines(stimulations[i]/second,-65,-45,linestyles='-',color='k')\n",
    "plt.xlim((9,10))\n",
    "plt.ylim((-61,-45))\n",
    "\n",
    "plt.xlabel('Time [s]',fontsize=20)\n",
    "plt.ylabel('Firing Rate [s]',fontsize=20)\n",
    "plt.title('Consequences of Instantaneous Stimulation (Membrane Potential)',fontsize=20)\n",
    "#plt.savefig('mempoini')"
   ]
  },
  {
   "cell_type": "code",
   "execution_count": null,
   "id": "d3d0df94-b627-4790-aced-edcd313afe33",
   "metadata": {},
   "outputs": [],
   "source": [
    "figure(figsize=(13,3))\n",
    "plt.plot(ready_monitors['rtm_q'][0],ready_monitors['rtm_q'][1],color='gold')\n",
    "plt.plot(ready_monitors['rtm_p'][0],ready_monitors['rtm_p'][1],color='red')\n",
    "plt.plot(ready_monitors['rtm_a'][0],ready_monitors['rtm_a'][1],color='green')\n",
    "plt.plot(ready_monitors['rtm_b'][0],ready_monitors['rtm_b'][1],color='blue')\n",
    "plt.xlim((9.5,9.8))\n",
    "#plt.ylim((-61,-45))"
   ]
  },
  {
   "cell_type": "code",
   "execution_count": null,
   "id": "721b9bc0-cae6-4371-a8c0-1bbb2c7aadc0",
   "metadata": {},
   "outputs": [],
   "source": [
    "np.savetxt('spiketime_q_stoca.csv', ready_monitors['spm_q'][0], delimiter=',')\n",
    "np.savetxt('spiketime_p_stoca.csv', ready_monitors['spm_p'][0], delimiter=',')\n",
    "np.savetxt('spiketime_b_stoca.csv', ready_monitors['spm_b'][0], delimiter=',')\n",
    "np.savetxt('spiketime_a_stoca.csv', ready_monitors['spm_a'][0], delimiter=',')\n",
    "np.savetxt('spikeneuron_q_stoca.csv', ready_monitors['spm_q'][1], delimiter=',')\n",
    "np.savetxt('spikeneuron_p_stoca.csv', ready_monitors['spm_p'][1], delimiter=',')\n",
    "np.savetxt('spikeneuron_b_stoca.csv', ready_monitors['spm_b'][1], delimiter=',')\n",
    "np.savetxt('spikeneuron_a_stoca.csv', ready_monitors['spm_a'][1], delimiter=',')"
   ]
  },
  {
   "cell_type": "code",
   "execution_count": null,
   "id": "178b4022-24be-4434-829e-27f692ed97b4",
   "metadata": {},
   "outputs": [],
   "source": [
    "ready_monitors['spm_p'][0]"
   ]
  },
  {
   "cell_type": "code",
   "execution_count": null,
   "id": "f6438b35-7d00-4ea9-829b-7519b5ced52f",
   "metadata": {},
   "outputs": [],
   "source": [
    "start"
   ]
  },
  {
   "cell_type": "code",
   "execution_count": null,
   "id": "6a7dd395-5da8-4699-ab4f-e23c80c0fd78",
   "metadata": {},
   "outputs": [],
   "source": [
    "np.savetxt('lfp_stoca.csv', ready_monitors['lowpass_lfp'][1][40000:80000], delimiter=',')"
   ]
  },
  {
   "cell_type": "code",
   "execution_count": null,
   "id": "fe27f9be-7f5c-4770-9ea3-0ec4a285832f",
   "metadata": {},
   "outputs": [],
   "source": [
    "ready_monitors['lowpass_lfp'][1][30000:130000]"
   ]
  },
  {
   "cell_type": "code",
   "execution_count": null,
   "id": "79eaf1f4-c2bc-4ef0-9115-ccc66562757c",
   "metadata": {},
   "outputs": [],
   "source": [
    "len(ready_monitors['lowpass_lfp'][1])"
   ]
  },
  {
   "cell_type": "code",
   "execution_count": null,
   "id": "d6f2a86a-2924-4142-99a5-0b4b778d6938",
   "metadata": {},
   "outputs": [],
   "source": [
    " ready_monitors['spm_q'][1][start:end]"
   ]
  },
  {
   "cell_type": "code",
   "execution_count": null,
   "id": "1fb308f1-0571-496f-9747-e3c0ca913dfc",
   "metadata": {},
   "outputs": [],
   "source": [
    "figure(figsize=(13,9))\n",
    "plt.plot(ready_monitors['spm_q'][0],ready_monitors['spm_q'][1],'.',color='gold')\n",
    "plt.plot(ready_monitors['spm_p'][0],800+ready_monitors['spm_p'][1],'.',color='red')\n",
    "plt.plot(ready_monitors['spm_b'][0],4000+ready_monitors['spm_b'][1],'.',color='blue')\n",
    "#for i in range(len(stimulations)):\n",
    "#    plt.vlines(stimulations[i]/second,0,4160,linestyles='-',color='k')\n",
    "#    plt.vlines(stimulations[i]/second+1,0,4160,linestyles='--',color='k')\n",
    "plt.xlim((3.42,3.45))\n",
    "plt.ylim((3110,4100))\n",
    "plt.rcParams['font.size'] = '20'\n",
    "plt.xlabel('Time [s]')\n",
    "plt.ylabel('Neuron index')\n",
    "plt.title('Raster Plot')\n",
    "#plt.legend(['pop Q','pop P','pop A','pop B'])\n",
    "fig.tight_layout()\n",
    "#plt.savefig('sample4')\n",
    "plt.show()"
   ]
  },
  {
   "cell_type": "code",
   "execution_count": null,
   "id": "c281f0e8-d2d6-4ec0-9523-4af3861b34aa",
   "metadata": {},
   "outputs": [],
   "source": [
    "plt.plot(ready_monitors['psd_lfp_high'][0],ready_monitors['psd_lfp_high'][1])\n",
    "plt.xlim([50, 400])\n",
    "plt.ylim([0, 10])"
   ]
  },
  {
   "cell_type": "code",
   "execution_count": null,
   "id": "279e8bea-e3c3-4d33-8825-433d578f12e0",
   "metadata": {},
   "outputs": [],
   "source": [
    "figure(figsize=(13,8))\n",
    "plt.plot(ready_monitors['stm_qq'][0],ready_monitors['stm_qq'][1],color='gold')\n",
    "#plt.plot(ready_monitors['stm_q_mempo'][0],57.5+ready_monitors['stm_q_mempo'][1],color='gold')\n",
    "#plt.plot(ready_monitors['rtm_q'][0],ready_monitors['rtm_q'][1],color='k')\n",
    "#from scipy.misc import derivative\n",
    "#d = np.diff(ready_monitors['rtm_q'][1])\n",
    "#plt.plot(ready_monitors['rtm_q'][0][0:-1],100*d,'k--')\n",
    "#plt.plot(ready_monitors['rtm_b'][0],0.5*ready_monitors['rtm_b'][1],color='r')\n",
    "plt.plot(ready_monitors['stm_qp'][0],ready_monitors['stm_qp'][1],color='red')\n",
    "plt.plot(ready_monitors['stm_qb'][0],ready_monitors['stm_qb'][1],color='blue')\n",
    "plt.plot(ready_monitors['stm_qa'][0],ready_monitors['stm_qa'][1],color='green')\n",
    "plt.plot(ready_monitors['stm_q_adp'][0],-ready_monitors['stm_q_adp'][1],color='purple')\n",
    "#plt.plot(ready_monitors['stm_q_adp'][0],130*np.ones(7000),color='black')\n",
    "#plt.axhline(0)\n",
    "#plt.axhline(-48+57.5)\n",
    "#plt.axvline(6.598)\n",
    "plt.legend(['current Q','current P','current B','current A','current adapt','external input'])\n",
    "plt.xlim((4,5))\n",
    "plt.show()"
   ]
  },
  {
   "cell_type": "code",
   "execution_count": null,
   "id": "88c6a57d-1f1c-4de4-a389-cafc886f5bc7",
   "metadata": {},
   "outputs": [],
   "source": [
    "firsts = stimulations/second\n",
    "lasts = firsts + 0.2\n",
    "successes = 0\n",
    "\n",
    "for element in ready_monitors['event_pre_index']/10000:\n",
    "    for i in range(len(firsts)):\n",
    "        if element > firsts[i] and element < lasts[i]:\n",
    "            successes += 1"
   ]
  },
  {
   "cell_type": "code",
   "execution_count": null,
   "id": "c429cde1-b6d6-4e49-99e1-3c41c73939f6",
   "metadata": {},
   "outputs": [],
   "source": [
    "n_events=ready_monitors['n_events']\n",
    "latencies = np.zeros([n_events,times])\n",
    "for j in range(n_events):\n",
    "    for i in range(len(firsts)-1):\n",
    "        if ready_monitors['event_pre_index'][j]/10000 - firsts[i] > 0:\n",
    "            latencies[j,i] = ready_monitors['event_pre_index'][j]/10000 - firsts[i]\n",
    "        else:\n",
    "            latencies[j,i] = 1000\n",
    "all_latencies = np.min(latencies,0)\n",
    "hist(all_latencies[0:-2],40)"
   ]
  },
  {
   "cell_type": "code",
   "execution_count": null,
   "id": "d84a5e52-ea79-4f17-b2ae-1d5e6f2dd40e",
   "metadata": {},
   "outputs": [],
   "source": [
    "fig = figure(figsize=(6,8))\n",
    "plt.rcParams['font.size'] = '14'\n",
    "subplot(211)\n",
    "plt.plot(ready_monitors['rtm_q'][0][start:end],ready_monitors['rtm_q'][1][start:end],color='black')\n",
    "for i in range(len(stimulations)):\n",
    "    plt.vlines(stimulations[i]/second,-10,40,linestyles='-',color='b')\n",
    "    plt.vlines(stimulations[i]/second+1,-10,40,linestyles='-',color='b')\n",
    "xlim([start/10000,end/10000])\n",
    "ylim([-2,35])\n",
    "plt.xlabel('Time [s]')\n",
    "plt.ylabel('Firing Rate [spikes/s]')\n",
    "plt.title('Firing Rate Q Neurons')\n",
    "subplot(212)\n",
    "plt.plot(ready_monitors['stm_q_adp'][0][start:end],ready_monitors['stm_q_adp'][1][start:end],color='red')\n",
    "for i in range(len(stimulations)):\n",
    "    plt.vlines(stimulations[i]/second,0,110,linestyles='-',color='b')\n",
    "    plt.vlines(stimulations[i]/second+1,0,110,linestyles='-',color='b')\n",
    "xlim([start/10000,end/10000])\n",
    "ylim([0,110])\n",
    "plt.rcParams['font.size'] = '14'\n",
    "plt.xlabel('Time [s]')\n",
    "plt.ylabel('Adaptation current [pA]')\n",
    "plt.title('Adaptation Q Neurons')\n",
    "#plt.legend(['pop Q','pop P','pop A','pop B'])\n",
    "fig.tight_layout()\n",
    "#plt.savefig('sample4')\n",
    "plt.show()"
   ]
  },
  {
   "cell_type": "code",
   "execution_count": null,
   "id": "46202856-8936-4dd1-9c74-e7230129fefe",
   "metadata": {},
   "outputs": [],
   "source": [
    "sim_dt=0.0001*second\n",
    "window = int(300 * ms / sim_dt)\n",
    "fit_time = np.arange(-window/second*sim_dt,0,sim_dt/second)"
   ]
  },
  {
   "cell_type": "code",
   "execution_count": null,
   "id": "de0e0e16-7461-47a7-b526-f6435a363fae",
   "metadata": {},
   "outputs": [],
   "source": [
    "fit_time"
   ]
  },
  {
   "cell_type": "code",
   "execution_count": null,
   "id": "3a13c0c2-8ec0-402b-b8fa-bb87d3dc286a",
   "metadata": {},
   "outputs": [],
   "source": [
    "y_pred = exponential_func(fit_time, 20, 20)"
   ]
  },
  {
   "cell_type": "code",
   "execution_count": null,
   "id": "b1e401c0-a46f-488b-b7d5-46dcebb510b1",
   "metadata": {},
   "outputs": [],
   "source": [
    "def exponential_func(x, a, b):\n",
    "    return a * np.exp(b * x)"
   ]
  },
  {
   "cell_type": "code",
   "execution_count": null,
   "id": "e3ec59be-f33f-4ccc-96a0-6cb691c57ec2",
   "metadata": {},
   "outputs": [],
   "source": [
    "y_pred = exponential_func(fit_time, 20, 50)\n",
    "plt.plot(fit_time,y_pred)\n",
    "plt.plot(fit_time,exponential_func(fit_time, 25, 50))\n",
    "plt.plot(fit_time,exponential_func(fit_time, 30, 50))"
   ]
  },
  {
   "cell_type": "code",
   "execution_count": null,
   "id": "12971f24-8b4e-482c-b44a-46727809000f",
   "metadata": {},
   "outputs": [],
   "source": []
  },
  {
   "cell_type": "code",
   "execution_count": null,
   "id": "d969e7eb-b643-41f0-a104-56a02e17ad75",
   "metadata": {},
   "outputs": [],
   "source": [
    "rtm_q_event_argmax"
   ]
  },
  {
   "cell_type": "code",
   "execution_count": null,
   "id": "9ee06632-0425-4805-856f-13e103a89dba",
   "metadata": {},
   "outputs": [],
   "source": [
    "rtm_p_event_argmax"
   ]
  },
  {
   "cell_type": "markdown",
   "id": "344bb375-9b74-4864-a3a9-2808a43ce6a0",
   "metadata": {},
   "source": [
    "# "
   ]
  }
 ],
 "metadata": {
  "kernelspec": {
   "display_name": "Python 3 (ipykernel)",
   "language": "python",
   "name": "python3"
  },
  "language_info": {
   "codemirror_mode": {
    "name": "ipython",
    "version": 3
   },
   "file_extension": ".py",
   "mimetype": "text/x-python",
   "name": "python",
   "nbconvert_exporter": "python",
   "pygments_lexer": "ipython3",
   "version": "3.11.7"
  }
 },
 "nbformat": 4,
 "nbformat_minor": 5
}
